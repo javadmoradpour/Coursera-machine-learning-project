{
  "cells": [
    {
      "cell_type": "markdown",
      "metadata": {
        "id": "view-in-github",
        "colab_type": "text"
      },
      "source": [
        "<a href=\"https://colab.research.google.com/github/javadmoradpour/Coursera-machine-learning-project/blob/master/Data_generation.ipynb\" target=\"_parent\"><img src=\"https://colab.research.google.com/assets/colab-badge.svg\" alt=\"Open In Colab\"/></a>"
      ]
    },
    {
      "cell_type": "markdown",
      "metadata": {
        "id": "zujHrAXA5hOY"
      },
      "source": [
        "## Vaccine uptake project\n",
        "\n",
        "Our first data source is **Our World in Data**. This data is updated daily and more information about it can be found [here](https://github.com/owid/covid-19-data/tree/master/public/data). In that link, we can find a detailed description of each of the variables. The following table is a summary of important variables included in this data set.\n",
        "\n",
        "| Metrics | Source | Updated | Countries |\n",
        "|-------- | -------|---------|-----------|\n",
        "| Vaccinations | Official data collated by the Our World in Data team |Daily|218|\n",
        "| Tests & positivity | Official data collated by the Our World in Data team |Weekly|139|\n",
        "|Hospital & ICU | Official data collated by the Our World in Data team | Weekly | 38 |\n",
        "|Confirmed cases | JHU CSSE COVID-19 Data | Daily | 196 |\n",
        "|Confirmed deaths | JHU CSSE COVID-19 Data | Daily | 196 |\n",
        "|Reproduction rate | Arroyo-Marioli F, Bullano F, Kucinskas S, Rondón-Moreno C | Daily|185|\n",
        "|Policy responses | Oxford COVID-19 Government Response Tracker | Daily | 186 |\n",
        "|Other variables of interest | International organizations (UN, World Bank, OECD, IHME…) | Fixed | 241 |\n",
        "\n",
        "The following lines of codes download this data set from its sources and display the first few rows as an example."
      ]
    },
    {
      "cell_type": "code",
      "execution_count": null,
      "metadata": {
        "tags": [],
        "id": "Av6z3jl15hOa",
        "colab": {
          "base_uri": "https://localhost:8080/"
        },
        "outputId": "a026d0e5-1547-4801-fec0-cd170eec4649"
      },
      "outputs": [
        {
          "output_type": "stream",
          "name": "stderr",
          "text": [
            "/usr/local/lib/python3.7/dist-packages/statsmodels/tools/_testing.py:19: FutureWarning: pandas.util.testing is deprecated. Use the functions in the public API at pandas.testing instead.\n",
            "  import pandas.util.testing as tm\n"
          ]
        }
      ],
      "source": [
        "import pandas as pd\n",
        "import numpy as np\n",
        "import requests\n",
        "import pycountry\n",
        "from datetime import datetime\n",
        "import statsmodels.api as sm\n",
        "\n",
        "import zipfile\n",
        "from urllib.request import urlopen\n",
        "import io\n",
        "import urllib.request"
      ]
    },
    {
      "cell_type": "code",
      "execution_count": null,
      "metadata": {
        "tags": [],
        "id": "XEgxowpl5hOa"
      },
      "outputs": [],
      "source": [
        "url = \"https://covid.ourworldindata.org/data/owid-covid-data.csv\"\n",
        "\n",
        "owid=pd.read_csv(url)"
      ]
    },
    {
      "cell_type": "markdown",
      "metadata": {
        "id": "99FpdXlY5hOa"
      },
      "source": [
        "Next line of code can show the list of all the available variables in this data set. You need to delete the sign # to see the list. "
      ]
    },
    {
      "cell_type": "code",
      "execution_count": null,
      "metadata": {
        "id": "YnygqgD25hOb"
      },
      "outputs": [],
      "source": [
        "#list(owid.columns)"
      ]
    },
    {
      "cell_type": "markdown",
      "metadata": {
        "id": "6ljF_HQP5hOb"
      },
      "source": [
        "Having that, we create a data set with static variables that do not change with the date. The following lines of codes create a data set with chosen variables and delete the repetition. The list of the variables can be changed. "
      ]
    },
    {
      "cell_type": "code",
      "execution_count": null,
      "metadata": {
        "id": "j5zez_MX5hOb",
        "outputId": "a9ede27b-9adf-442b-a8b3-775e826dafa2",
        "colab": {
          "base_uri": "https://localhost:8080/",
          "height": 270
        }
      },
      "outputs": [
        {
          "output_type": "execute_result",
          "data": {
            "text/plain": [
              "   iso_code continent     location    population  population_density  \\\n",
              "0       AFG      Asia  Afghanistan  3.983543e+07              54.422   \n",
              "1  OWID_AFR       NaN       Africa  1.373486e+09                 NaN   \n",
              "2       ALB    Europe      Albania  2.872934e+06             104.871   \n",
              "3       DZA    Africa      Algeria  4.461663e+07              17.348   \n",
              "4       AND    Europe      Andorra  7.735400e+04             163.755   \n",
              "\n",
              "   median_age  aged_65_older  aged_70_older  gdp_per_capita  extreme_poverty  \\\n",
              "0        18.6          2.581          1.337        1803.987              NaN   \n",
              "1         NaN            NaN            NaN             NaN              NaN   \n",
              "2        38.0         13.188          8.643       11803.431              1.1   \n",
              "3        29.1          6.211          3.857       13913.839              0.5   \n",
              "4         NaN            NaN            NaN             NaN              NaN   \n",
              "\n",
              "   hospital_beds_per_thousand  life_expectancy  human_development_index  \n",
              "0                        0.50            64.83                    0.511  \n",
              "1                         NaN              NaN                      NaN  \n",
              "2                        2.89            78.57                    0.795  \n",
              "3                        1.90            76.88                    0.748  \n",
              "4                         NaN            83.73                    0.868  "
            ],
            "text/html": [
              "\n",
              "  <div id=\"df-04f9eeda-e31b-4ba8-a85a-95a1bbf93066\">\n",
              "    <div class=\"colab-df-container\">\n",
              "      <div>\n",
              "<style scoped>\n",
              "    .dataframe tbody tr th:only-of-type {\n",
              "        vertical-align: middle;\n",
              "    }\n",
              "\n",
              "    .dataframe tbody tr th {\n",
              "        vertical-align: top;\n",
              "    }\n",
              "\n",
              "    .dataframe thead th {\n",
              "        text-align: right;\n",
              "    }\n",
              "</style>\n",
              "<table border=\"1\" class=\"dataframe\">\n",
              "  <thead>\n",
              "    <tr style=\"text-align: right;\">\n",
              "      <th></th>\n",
              "      <th>iso_code</th>\n",
              "      <th>continent</th>\n",
              "      <th>location</th>\n",
              "      <th>population</th>\n",
              "      <th>population_density</th>\n",
              "      <th>median_age</th>\n",
              "      <th>aged_65_older</th>\n",
              "      <th>aged_70_older</th>\n",
              "      <th>gdp_per_capita</th>\n",
              "      <th>extreme_poverty</th>\n",
              "      <th>hospital_beds_per_thousand</th>\n",
              "      <th>life_expectancy</th>\n",
              "      <th>human_development_index</th>\n",
              "    </tr>\n",
              "  </thead>\n",
              "  <tbody>\n",
              "    <tr>\n",
              "      <th>0</th>\n",
              "      <td>AFG</td>\n",
              "      <td>Asia</td>\n",
              "      <td>Afghanistan</td>\n",
              "      <td>3.983543e+07</td>\n",
              "      <td>54.422</td>\n",
              "      <td>18.6</td>\n",
              "      <td>2.581</td>\n",
              "      <td>1.337</td>\n",
              "      <td>1803.987</td>\n",
              "      <td>NaN</td>\n",
              "      <td>0.50</td>\n",
              "      <td>64.83</td>\n",
              "      <td>0.511</td>\n",
              "    </tr>\n",
              "    <tr>\n",
              "      <th>1</th>\n",
              "      <td>OWID_AFR</td>\n",
              "      <td>NaN</td>\n",
              "      <td>Africa</td>\n",
              "      <td>1.373486e+09</td>\n",
              "      <td>NaN</td>\n",
              "      <td>NaN</td>\n",
              "      <td>NaN</td>\n",
              "      <td>NaN</td>\n",
              "      <td>NaN</td>\n",
              "      <td>NaN</td>\n",
              "      <td>NaN</td>\n",
              "      <td>NaN</td>\n",
              "      <td>NaN</td>\n",
              "    </tr>\n",
              "    <tr>\n",
              "      <th>2</th>\n",
              "      <td>ALB</td>\n",
              "      <td>Europe</td>\n",
              "      <td>Albania</td>\n",
              "      <td>2.872934e+06</td>\n",
              "      <td>104.871</td>\n",
              "      <td>38.0</td>\n",
              "      <td>13.188</td>\n",
              "      <td>8.643</td>\n",
              "      <td>11803.431</td>\n",
              "      <td>1.1</td>\n",
              "      <td>2.89</td>\n",
              "      <td>78.57</td>\n",
              "      <td>0.795</td>\n",
              "    </tr>\n",
              "    <tr>\n",
              "      <th>3</th>\n",
              "      <td>DZA</td>\n",
              "      <td>Africa</td>\n",
              "      <td>Algeria</td>\n",
              "      <td>4.461663e+07</td>\n",
              "      <td>17.348</td>\n",
              "      <td>29.1</td>\n",
              "      <td>6.211</td>\n",
              "      <td>3.857</td>\n",
              "      <td>13913.839</td>\n",
              "      <td>0.5</td>\n",
              "      <td>1.90</td>\n",
              "      <td>76.88</td>\n",
              "      <td>0.748</td>\n",
              "    </tr>\n",
              "    <tr>\n",
              "      <th>4</th>\n",
              "      <td>AND</td>\n",
              "      <td>Europe</td>\n",
              "      <td>Andorra</td>\n",
              "      <td>7.735400e+04</td>\n",
              "      <td>163.755</td>\n",
              "      <td>NaN</td>\n",
              "      <td>NaN</td>\n",
              "      <td>NaN</td>\n",
              "      <td>NaN</td>\n",
              "      <td>NaN</td>\n",
              "      <td>NaN</td>\n",
              "      <td>83.73</td>\n",
              "      <td>0.868</td>\n",
              "    </tr>\n",
              "  </tbody>\n",
              "</table>\n",
              "</div>\n",
              "      <button class=\"colab-df-convert\" onclick=\"convertToInteractive('df-04f9eeda-e31b-4ba8-a85a-95a1bbf93066')\"\n",
              "              title=\"Convert this dataframe to an interactive table.\"\n",
              "              style=\"display:none;\">\n",
              "        \n",
              "  <svg xmlns=\"http://www.w3.org/2000/svg\" height=\"24px\"viewBox=\"0 0 24 24\"\n",
              "       width=\"24px\">\n",
              "    <path d=\"M0 0h24v24H0V0z\" fill=\"none\"/>\n",
              "    <path d=\"M18.56 5.44l.94 2.06.94-2.06 2.06-.94-2.06-.94-.94-2.06-.94 2.06-2.06.94zm-11 1L8.5 8.5l.94-2.06 2.06-.94-2.06-.94L8.5 2.5l-.94 2.06-2.06.94zm10 10l.94 2.06.94-2.06 2.06-.94-2.06-.94-.94-2.06-.94 2.06-2.06.94z\"/><path d=\"M17.41 7.96l-1.37-1.37c-.4-.4-.92-.59-1.43-.59-.52 0-1.04.2-1.43.59L10.3 9.45l-7.72 7.72c-.78.78-.78 2.05 0 2.83L4 21.41c.39.39.9.59 1.41.59.51 0 1.02-.2 1.41-.59l7.78-7.78 2.81-2.81c.8-.78.8-2.07 0-2.86zM5.41 20L4 18.59l7.72-7.72 1.47 1.35L5.41 20z\"/>\n",
              "  </svg>\n",
              "      </button>\n",
              "      \n",
              "  <style>\n",
              "    .colab-df-container {\n",
              "      display:flex;\n",
              "      flex-wrap:wrap;\n",
              "      gap: 12px;\n",
              "    }\n",
              "\n",
              "    .colab-df-convert {\n",
              "      background-color: #E8F0FE;\n",
              "      border: none;\n",
              "      border-radius: 50%;\n",
              "      cursor: pointer;\n",
              "      display: none;\n",
              "      fill: #1967D2;\n",
              "      height: 32px;\n",
              "      padding: 0 0 0 0;\n",
              "      width: 32px;\n",
              "    }\n",
              "\n",
              "    .colab-df-convert:hover {\n",
              "      background-color: #E2EBFA;\n",
              "      box-shadow: 0px 1px 2px rgba(60, 64, 67, 0.3), 0px 1px 3px 1px rgba(60, 64, 67, 0.15);\n",
              "      fill: #174EA6;\n",
              "    }\n",
              "\n",
              "    [theme=dark] .colab-df-convert {\n",
              "      background-color: #3B4455;\n",
              "      fill: #D2E3FC;\n",
              "    }\n",
              "\n",
              "    [theme=dark] .colab-df-convert:hover {\n",
              "      background-color: #434B5C;\n",
              "      box-shadow: 0px 1px 3px 1px rgba(0, 0, 0, 0.15);\n",
              "      filter: drop-shadow(0px 1px 2px rgba(0, 0, 0, 0.3));\n",
              "      fill: #FFFFFF;\n",
              "    }\n",
              "  </style>\n",
              "\n",
              "      <script>\n",
              "        const buttonEl =\n",
              "          document.querySelector('#df-04f9eeda-e31b-4ba8-a85a-95a1bbf93066 button.colab-df-convert');\n",
              "        buttonEl.style.display =\n",
              "          google.colab.kernel.accessAllowed ? 'block' : 'none';\n",
              "\n",
              "        async function convertToInteractive(key) {\n",
              "          const element = document.querySelector('#df-04f9eeda-e31b-4ba8-a85a-95a1bbf93066');\n",
              "          const dataTable =\n",
              "            await google.colab.kernel.invokeFunction('convertToInteractive',\n",
              "                                                     [key], {});\n",
              "          if (!dataTable) return;\n",
              "\n",
              "          const docLinkHtml = 'Like what you see? Visit the ' +\n",
              "            '<a target=\"_blank\" href=https://colab.research.google.com/notebooks/data_table.ipynb>data table notebook</a>'\n",
              "            + ' to learn more about interactive tables.';\n",
              "          element.innerHTML = '';\n",
              "          dataTable['output_type'] = 'display_data';\n",
              "          await google.colab.output.renderOutput(dataTable, element);\n",
              "          const docLink = document.createElement('div');\n",
              "          docLink.innerHTML = docLinkHtml;\n",
              "          element.appendChild(docLink);\n",
              "        }\n",
              "      </script>\n",
              "    </div>\n",
              "  </div>\n",
              "  "
            ]
          },
          "metadata": {},
          "execution_count": 4
        }
      ],
      "source": [
        "Data=owid[['iso_code','continent','location','population','population_density','median_age','aged_65_older','aged_70_older','gdp_per_capita','extreme_poverty',\n",
        "      'hospital_beds_per_thousand','life_expectancy','human_development_index']].drop_duplicates(subset=['location']).reset_index(drop=True)\n",
        "\n",
        "Data.head()"
      ]
    },
    {
      "cell_type": "markdown",
      "metadata": {
        "id": "x3l_vCPP5hOc"
      },
      "source": [
        "As we can see in the data, some of the rows are not for a country, they are for specific regions of the world. So, next, I write a function to check if iso_code corresponds to a country.  Then, using this function, I filter out any row that is not a country."
      ]
    },
    {
      "cell_type": "code",
      "execution_count": null,
      "metadata": {
        "id": "3lb9GC-P5hOc"
      },
      "outputs": [],
      "source": [
        "def check_if_country(code):\n",
        "    for co in list(pycountry.countries):\n",
        "        if code in co.alpha_3:\n",
        "            return True\n",
        "    return False"
      ]
    },
    {
      "cell_type": "code",
      "execution_count": null,
      "metadata": {
        "id": "CLCpZCJy5hOc"
      },
      "outputs": [],
      "source": [
        "if_country=[check_if_country(code) for code in Data.iso_code]\n",
        "\n",
        "Data=Data[if_country].reset_index(drop=True)"
      ]
    },
    {
      "cell_type": "markdown",
      "metadata": {
        "id": "ewRqnILY5hOd"
      },
      "source": [
        "The next function finds the value of a given variable at a certain date, for a specified country."
      ]
    },
    {
      "cell_type": "code",
      "execution_count": null,
      "metadata": {
        "id": "iUQPzwLZ5hOd"
      },
      "outputs": [],
      "source": [
        "def find_value_at_fixed_date(country, fixed_date, variable_name):\n",
        "    \n",
        "    df=owid[owid.location==country][['date', variable_name]]\n",
        "\n",
        "    df=df[df['date']<=fixed_date].dropna().reset_index(drop=True)\n",
        "    \n",
        "    if df.empty:\n",
        "        return np.NaN\n",
        "    \n",
        "    return df[variable_name].iloc[-1]"
      ]
    },
    {
      "cell_type": "markdown",
      "metadata": {
        "id": "-g5dNc9p5hOd"
      },
      "source": [
        "Next, we want to define new variables, based on columns that change with the date. To do that, we need to have a starting date for our data. One option is the date when the World Health Organization declared the COVID 19 outbreak a Public Health Emergency of International Concern. This happened on 30 January 2020. [Reference 1](https://www.who.int/news/item/30-01-2020-statement-on-the-second-meeting-of-the-international-health-regulations-(2005)-emergency-committee-regarding-the-outbreak-of-novel-coronavirus-(2019-ncov)). The other option is when the first vaccine has been approved by the health authority in a major country. UK was the first western country in the world to approve a COVID-19 vaccine. UK government approved the Pfizer vaccine on December 2, 2020. [Reference 2](https://www.gov.uk/government/news/uk-medicines-regulator-gives-approval-for-first-uk-covid-19-vaccine) [Reference 3](https://www.theguardian.com/society/2020/dec/02/pfizer-biontech-covid-vaccine-wins-licence-for-use-in-the-uk). We chose the second option. "
      ]
    },
    {
      "cell_type": "markdown",
      "metadata": {
        "id": "YUCN5efN5hOd"
      },
      "source": [
        "Having that, we calculate the total cases and the total number of deaths, before the start of the vaccination campaign."
      ]
    },
    {
      "cell_type": "code",
      "execution_count": null,
      "metadata": {
        "id": "03EObSpT5hOd"
      },
      "outputs": [],
      "source": [
        "start_vaccine_date = '2020-12-02'\n",
        "\n",
        "variable_list=['total_cases', 'total_deaths']\n",
        "\n",
        "for variable_name in variable_list:\n",
        "\n",
        "    Total_value_before_vaccines=[find_value_at_fixed_date(country, start_vaccine_date, variable_name) for country in Data.location]\n",
        "\n",
        "    Column_name=variable_name+'_at_'+str(start_vaccine_date).replace('-', '_')\n",
        "\n",
        "    Data[Column_name]=Total_value_before_vaccines"
      ]
    },
    {
      "cell_type": "markdown",
      "metadata": {
        "id": "65NLiVth5hOd"
      },
      "source": [
        "Then we calculate the percentage of people fully vaccinated, for a given set of dates."
      ]
    },
    {
      "cell_type": "code",
      "execution_count": null,
      "metadata": {
        "id": "YFZtheJK5hOe"
      },
      "outputs": [],
      "source": [
        "fixed_dates=['2021-03-31', '2021-06-30','2021-09-30', '2021-12-31']\n",
        "\n",
        "for dt in fixed_dates:\n",
        "\n",
        "    Percentage_at_fixed_date=[find_value_at_fixed_date(country, dt, 'people_fully_vaccinated_per_hundred') for country in Data.location]\n",
        "\n",
        "    Column_name='fully_vaccinated_at_'+str(dt).replace('-', '_')\n",
        "\n",
        "    Data[Column_name]=Percentage_at_fixed_date\n",
        "    \n",
        "    Data[Column_name] = Data[Column_name].fillna(0)"
      ]
    },
    {
      "cell_type": "markdown",
      "metadata": {
        "id": "8eclccE-5hOe"
      },
      "source": [
        "Next, we save the data. "
      ]
    },
    {
      "cell_type": "code",
      "execution_count": null,
      "metadata": {
        "id": "pgXpWwHc5hOe"
      },
      "outputs": [],
      "source": [
        "Data.to_excel(\"OWID (fixed date).xlsx\",index=False)  \n",
        "\n",
        "Data.to_stata(\"OWID (fixed date).dta\",write_index=False)"
      ]
    },
    {
      "cell_type": "markdown",
      "metadata": {
        "id": "SWydnC0V5hOe"
      },
      "source": [
        "Now we add more data from other sources. First added data is a dummy variable, indicating if a country is a member of EMA [Reference 1](https://www.ema.europa.eu/en/partners-networks/eu-partners/eu-member-states/national-competent-authorities-human):"
      ]
    },
    {
      "cell_type": "code",
      "execution_count": null,
      "metadata": {
        "id": "jYL_w00E5hOe"
      },
      "outputs": [],
      "source": [
        "EMA=pd.read_excel('EMA.xlsx', index_col=None, header=0)[['iso_code','EEA']]\n",
        "\n",
        "EMA=EMA.rename(columns={\"EEA\": \"EMA\"})\n",
        "\n",
        "Data= Data.merge(EMA, how='left', on='iso_code')"
      ]
    },
    {
      "cell_type": "markdown",
      "metadata": {
        "id": "d3lvXnSN5hOe"
      },
      "source": [
        "Next we add the data for Corruption Perception Index from Transparency international website. [Reference 1](https://www.transparency.org/en/cpi/2021)"
      ]
    },
    {
      "cell_type": "code",
      "execution_count": null,
      "metadata": {
        "id": "xPtEWxdP5hOe"
      },
      "outputs": [],
      "source": [
        "url = \"https://images.transparencycdn.org/images/CPI-2021-Full-Data-Set.zip\"\n",
        "\n",
        "#defining header\n",
        "header= {'User-Agent':'Chrome/23.0.1271.64 Safari/537.11'}\n",
        "\n",
        "#the URL where you are requesting at\n",
        "req = urllib.request.Request(url=url, headers=header) \n",
        "\n",
        "zf = zipfile.ZipFile(io.BytesIO(urlopen(req).read()))\n",
        "\n",
        "xlfile = zf.open(zf.namelist()[1])\n",
        "\n",
        "CPI = pd.read_excel(xlfile, index_col=None, header=2, sheet_name='CPI Timeseries 2012 - 2021')[['ISO3','CPI score 2020']]\n",
        "\n",
        "Data= Data.merge(CPI, how='left',left_on='iso_code', right_on='ISO3').drop(columns=['ISO3'])"
      ]
    },
    {
      "cell_type": "markdown",
      "metadata": {
        "id": "NkZG3mFY5hOe"
      },
      "source": [
        "Here we add the data for vaccine confidence from a recently published paper. [Reference 1](https://www.ncbi.nlm.nih.gov/pmc/articles/PMC7607345)"
      ]
    },
    {
      "cell_type": "code",
      "execution_count": null,
      "metadata": {
        "id": "BhBhx2Kj5hOe"
      },
      "outputs": [],
      "source": [
        "url = \"https://www.ncbi.nlm.nih.gov/pmc/articles/PMC7607345/bin/mmc2.xlsx\"\n",
        "\n",
        "Vaccine_Confidence=pd.read_excel(url, index_col=None, header=0, sheet_name='model_fit_safe')[['country or territory']].drop_duplicates()\n",
        "\n",
        "sheet_names=['model_fit_safe','model_fit_important', 'model_fit_effective']\n",
        "\n",
        "for sh_name in sheet_names:\n",
        "\n",
        "    df=pd.read_excel(url, index_col=None, header=0, sheet_name=sh_name)\n",
        "\n",
        "    df_columns=list(df.columns)[1:]\n",
        "\n",
        "    df[df_columns]=df.groupby('country or territory').fillna(method='ffill')\n",
        "\n",
        "    df= df.groupby('country or territory').tail(1).reset_index(drop=True)[['country or territory', 'mean']]\n",
        "\n",
        "    df = df.rename(columns={'mean': sh_name}) \n",
        "\n",
        "    Vaccine_Confidence=Vaccine_Confidence.merge(df, how='left',on='country or territory')"
      ]
    },
    {
      "cell_type": "markdown",
      "metadata": {
        "id": "v44WHh4G5hOe"
      },
      "source": [
        "Next paragraph cleans the vaccine confidence data, before adding it to the main data frame."
      ]
    },
    {
      "cell_type": "code",
      "execution_count": null,
      "metadata": {
        "id": "LihNw-4M5hOe"
      },
      "outputs": [],
      "source": [
        "exclude_countries=['Northern Cyprus','Kosovo']\n",
        "Vaccine_Confidence=Vaccine_Confidence[~Vaccine_Confidence['country or territory'].isin(exclude_countries)].reset_index(drop=True)\n",
        "\n",
        "Country_Map={'Democratic Republic of the Congo':'Congo, The Democratic Republic of the', 'Republic of Congo':'Republic of the Congo', \n",
        "             'Ivory Coast':'Côte d\\'Ivoire', 'Swaziland':'Kingdom of Eswatini','UK':'United Kingdom'} \n",
        "\n",
        "for i in range(Vaccine_Confidence.shape[0]):\n",
        "    if Vaccine_Confidence['country or territory'][i] in Country_Map.keys():\n",
        "        Vaccine_Confidence.loc[i,'country or territory']=Country_Map[Vaccine_Confidence['country or territory'][i]]\n",
        "\n",
        "        \n",
        "Vaccine_Confidence['iso_code']=np.nan\n",
        "\n",
        "for i in range(len(Vaccine_Confidence)):\n",
        "    count=Vaccine_Confidence.loc[i,'country or territory']\n",
        "    if count in list(Data.location):\n",
        "        Vaccine_Confidence.loc[i,'iso_code']=Data[Data.location==count].reset_index().loc[0,'iso_code']\n",
        "    else:\n",
        "        Vaccine_Confidence.loc[i,'iso_code']=pycountry.countries.search_fuzzy(count)[0].alpha_3\n",
        "        \n",
        "Data= Data.merge(Vaccine_Confidence, how='left',on='iso_code').drop(columns=['country or territory'])   "
      ]
    },
    {
      "cell_type": "markdown",
      "metadata": {
        "id": "dUqitliu5hOf"
      },
      "source": [
        "Next we add the data for education from world bank. [Reference 1](https://data.worldbank.org/topic/4)"
      ]
    },
    {
      "cell_type": "code",
      "execution_count": null,
      "metadata": {
        "id": "pteLZ_6m5hOf"
      },
      "outputs": [],
      "source": [
        "url = \"https://api.worldbank.org/v2/en/topic/4?downloadformat=excel\"\n",
        "\n",
        "Education_df=pd.read_excel(url, index_col=None, header=3, sheet_name='Data').drop(columns=['Indicator Code'])\n",
        "\n",
        "Education_Variables=['School enrollment, primary (% net)','School enrollment, secondary (% net)',\n",
        "                     'School enrollment, tertiary (% gross)','Literacy rate, adult total (% of people ages 15 and above)']\n",
        "\n",
        "Education_df=Education_df[Education_df['Indicator Name'].isin(Education_Variables)].reset_index(drop=True)\n",
        "\n",
        "Education_df=Education_df.fillna(method='ffill',axis=1)[['Country Name','Country Code','Indicator Name','2020']]\n",
        "\n",
        "Education_df['2020']=pd.to_numeric(Education_df['2020'],errors='coerce')\n",
        "\n",
        "\n",
        "Education=Education_df[['Country Name','Country Code']].drop_duplicates().reset_index(drop=True)\n",
        "\n",
        "for var in Education_Variables:\n",
        "    Education[var]=Education_df[Education_df['Indicator Name']==var].reset_index(drop=True)['2020']\n",
        "    \n",
        "Data= Data.merge(Education, how='left',left_on='iso_code', right_on='Country Code').drop(columns=['Country Code','Country Name'])"
      ]
    },
    {
      "cell_type": "markdown",
      "metadata": {
        "id": "yEOrQJpu5hOf"
      },
      "source": [
        "Next, we prepare our data for running the regression. To do that, we select the variable we want to use for the analysis, delete all the rows with missing values, and define our dependent and independent variables. "
      ]
    },
    {
      "cell_type": "code",
      "execution_count": null,
      "metadata": {
        "id": "SUoRB90j5hOf",
        "outputId": "6b8b4d5b-37f9-4d06-d903-96d9a9808ffb",
        "colab": {
          "base_uri": "https://localhost:8080/"
        }
      },
      "outputs": [
        {
          "output_type": "stream",
          "name": "stdout",
          "text": [
            "                                       OLS Regression Results                                      \n",
            "===================================================================================================\n",
            "Dep. Variable:     fully_vaccinated_at_2021_12_31   R-squared (uncentered):                   0.905\n",
            "Model:                                        OLS   Adj. R-squared (uncentered):              0.899\n",
            "Method:                             Least Squares   F-statistic:                              155.6\n",
            "Date:                            Mon, 02 May 2022   Prob (F-statistic):                    4.81e-63\n",
            "Time:                                    17:02:32   Log-Likelihood:                         -579.25\n",
            "No. Observations:                             139   AIC:                                      1175.\n",
            "Df Residuals:                                 131   BIC:                                      1198.\n",
            "Df Model:                                       8                                                  \n",
            "Covariance Type:                        nonrobust                                                  \n",
            "==================================================================================================\n",
            "                                     coef    std err          t      P>|t|      [0.025      0.975]\n",
            "--------------------------------------------------------------------------------------------------\n",
            "log_gdp_per_capita                 7.2001      1.479      4.870      0.000       4.275      10.125\n",
            "aged_65_older                      1.3169      0.413      3.188      0.002       0.500       2.134\n",
            "log_population                    -3.4864      0.734     -4.752      0.000      -4.938      -2.035\n",
            "log_population_density             0.8818      1.039      0.849      0.398      -1.173       2.937\n",
            "CPI score 2020                     0.3076      0.122      2.529      0.013       0.067       0.548\n",
            "model_fit_safe                    -2.7025      0.578     -4.676      0.000      -3.846      -1.559\n",
            "EMA                              -11.2518      4.901     -2.296      0.023     -20.946      -1.557\n",
            "log_total_deaths_at_2020_12_02     2.1182      0.744      2.849      0.005       0.647       3.589\n",
            "==============================================================================\n",
            "Omnibus:                       18.152   Durbin-Watson:                   2.181\n",
            "Prob(Omnibus):                  0.000   Jarque-Bera (JB):               56.322\n",
            "Skew:                          -0.358   Prob(JB):                     5.89e-13\n",
            "Kurtosis:                       6.035   Cond. No.                         191.\n",
            "==============================================================================\n",
            "\n",
            "Warnings:\n",
            "[1] Standard Errors assume that the covariance matrix of the errors is correctly specified.\n"
          ]
        }
      ],
      "source": [
        "#dependent_variable='fully_vaccinated_at_2021_06_30'\n",
        "\n",
        "dependent_variable='fully_vaccinated_at_2021_12_31'\n",
        "\n",
        "#dependent_variable='fully_vaccinated_at_2021_09_30'\n",
        "\n",
        "data=Data[[dependent_variable,\n",
        "           'gdp_per_capita',\n",
        "           'aged_65_older',\n",
        "           'population', \n",
        "           'population_density',\n",
        "           'CPI score 2020',\n",
        "           'model_fit_safe',\n",
        "           #'School enrollment, tertiary (% gross)',\n",
        "           #'School enrollment, primary (% net)',\n",
        "           'EMA',\n",
        "           'total_deaths_at_2020_12_02'\n",
        "          ]].dropna().reset_index(drop=True)\n",
        "\n",
        "loged_variables=['gdp_per_capita',\n",
        "                 'population',\n",
        "                 'total_deaths_at_2020_12_02',\n",
        "                 'population_density',\n",
        "                ]\n",
        "\n",
        "for var in loged_variables:\n",
        "    data[var]=np.log(data[var])\n",
        "    data.rename(columns = {var:'log_'+var}, inplace = True)\n",
        "\n",
        "\n",
        "Y= data[dependent_variable]\n",
        "\n",
        "X=data.drop(columns=[dependent_variable])\n",
        "\n",
        "\n",
        "\n",
        "mod = sm.OLS(Y, X)\n",
        "\n",
        "res = mod.fit()\n",
        "\n",
        "print(res.summary())"
      ]
    },
    {
      "cell_type": "code",
      "execution_count": null,
      "metadata": {
        "id": "5gDH7WPD5hOf",
        "outputId": "d0025b44-eb49-40aa-e4ea-ab49666c63ef",
        "colab": {
          "base_uri": "https://localhost:8080/"
        }
      },
      "outputs": [
        {
          "output_type": "execute_result",
          "data": {
            "text/plain": [
              "['iso_code',\n",
              " 'continent',\n",
              " 'location',\n",
              " 'population',\n",
              " 'population_density',\n",
              " 'median_age',\n",
              " 'aged_65_older',\n",
              " 'aged_70_older',\n",
              " 'gdp_per_capita',\n",
              " 'extreme_poverty',\n",
              " 'hospital_beds_per_thousand',\n",
              " 'life_expectancy',\n",
              " 'human_development_index',\n",
              " 'total_cases_at_2020_12_02',\n",
              " 'total_deaths_at_2020_12_02',\n",
              " 'fully_vaccinated_at_2021_03_31',\n",
              " 'fully_vaccinated_at_2021_06_30',\n",
              " 'fully_vaccinated_at_2021_09_30',\n",
              " 'fully_vaccinated_at_2021_12_31',\n",
              " 'EMA',\n",
              " 'CPI score 2020',\n",
              " 'model_fit_safe',\n",
              " 'model_fit_important',\n",
              " 'model_fit_effective',\n",
              " 'School enrollment, primary (% net)',\n",
              " 'School enrollment, secondary (% net)',\n",
              " 'School enrollment, tertiary (% gross)',\n",
              " 'Literacy rate, adult total (% of people ages 15 and above)']"
            ]
          },
          "metadata": {},
          "execution_count": 17
        }
      ],
      "source": [
        "list(Data.columns)"
      ]
    },
    {
      "cell_type": "code",
      "execution_count": null,
      "metadata": {
        "id": "wtqmTG8r5hOf"
      },
      "outputs": [],
      "source": [
        "Data.rename(columns = {'CPI score 2020':'CPI_score_2020',\n",
        "                       'School enrollment, primary (% net)':'School_enrollment_primary_net',\n",
        "                       'School enrollment, secondary (% net)':'School_enrollment_secondary_net',\n",
        "                       'School enrollment, tertiary (% gross)':'School_enrollment_tertiary_gross',\n",
        "                       'Literacy rate, adult total (% of people ages 15 and above)':'Literacy_rate_adult'\n",
        "                      }, inplace = True)\n",
        "\n",
        "\n",
        "Data.to_excel(\"Data.xlsx\",index=False)  \n",
        "\n",
        "Data.to_stata(\"Data.dta\",write_index=False)"
      ]
    },
    {
      "cell_type": "code",
      "execution_count": null,
      "metadata": {
        "id": "t8Hn6VWt5hOf"
      },
      "outputs": [],
      "source": [
        ""
      ]
    }
  ],
  "metadata": {
    "kernelspec": {
      "display_name": "Python 3 (ipykernel)",
      "language": "python",
      "name": "python3"
    },
    "language_info": {
      "codemirror_mode": {
        "name": "ipython",
        "version": 3
      },
      "file_extension": ".py",
      "mimetype": "text/x-python",
      "name": "python",
      "nbconvert_exporter": "python",
      "pygments_lexer": "ipython3",
      "version": "3.8.13"
    },
    "colab": {
      "name": "Data_generation.ipynb",
      "provenance": [],
      "collapsed_sections": [],
      "toc_visible": true,
      "include_colab_link": true
    }
  },
  "nbformat": 4,
  "nbformat_minor": 0
}